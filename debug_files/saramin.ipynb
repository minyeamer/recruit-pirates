{
 "cells": [
  {
   "cell_type": "markdown",
   "metadata": {},
   "source": [
    "# 사람인 데이터 크롤링"
   ]
  },
  {
   "cell_type": "markdown",
   "metadata": {},
   "source": [
    "## 라이브러리 선언"
   ]
  },
  {
   "cell_type": "code",
   "execution_count": 9,
   "metadata": {},
   "outputs": [],
   "source": [
    "import requests\n",
    "from bs4 import BeautifulSoup\n",
    "\n",
    "import numpy as np\n",
    "import pandas as pd"
   ]
  },
  {
   "cell_type": "markdown",
   "metadata": {},
   "source": [
    "## 함수 선언"
   ]
  },
  {
   "cell_type": "code",
   "execution_count": 13,
   "metadata": {},
   "outputs": [],
   "source": [
    "def get_source(locations: list, jobs: list) -> BeautifulSoup:\n",
    "    \"\"\"\n",
    "    지역 번호와 직무 코드를 받아 조건에 맞는 사람인 채용공고 목록 페이지를 반환하는 함수\n",
    "    locations: 지역 번호 리스트\n",
    "    jobs: 직무 코드 리스트\n",
    "    source: 사람인 채용공고 목록 페이지, 함수 반환값\n",
    "    \"\"\"\n",
    "\n",
    "    url = 'https://www.saramin.co.kr/zf_user/jobs/list/domestic?' + \\\n",
    "          'loc_mcd=' + '%'.join(location) + '&' + \\\n",
    "          'cat_kewd=' + '%'.join(jobs)\n",
    "    \n",
    "    web = requests.get(url).content\n",
    "    source = BeautifulSoup(web, 'html.parser')\n",
    "\n",
    "    return source"
   ]
  },
  {
   "cell_type": "code",
   "execution_count": 68,
   "metadata": {},
   "outputs": [],
   "source": [
    "def get_recruit_dict(source: BeautifulSoup) -> dict:\n",
    "    \"\"\"\n",
    "    사람인 채용공고 목록 페이지에서 회사 이름과 채용공고 글 번호를 묶어서 반환하는 함수\n",
    "    source: 사람인 채용공고 목록 페이지\n",
    "    recruit_dict: {'회사 이름': '채용공고 글 번호'}, 반환값\n",
    "    \"\"\"\n",
    "\n",
    "    recruit_section = source.find('section', {'class': 'list_recruiting'})\n",
    "    company_column = recruit_section.find_all('div', {'class': 'company_nm'})\n",
    "\n",
    "    recruit_dict = dict()\n",
    "\n",
    "    for company_value in company_column:\n",
    "        try:\n",
    "            company_tag = company_value.find('a', {'class': 'str_tit'})\n",
    "            company_name = company_tag.get('title').replace('(주)', '')\n",
    "            recruit_number = company_tag.get('href').split('idx=')[1]\n",
    "\n",
    "            recruit_dict[company_name] = recruit_number\n",
    "        except AttributeError:\n",
    "            continue\n",
    "    \n",
    "    return recruit_dict"
   ]
  },
  {
   "cell_type": "code",
   "execution_count": 65,
   "metadata": {},
   "outputs": [],
   "source": [
    "def get_recruit_page(idx: str) -> BeautifulSoup:\n",
    "    \"\"\"\n",
    "    사람인 채용공고 글 번호를 받아 채용공고 페이지를 반환\n",
    "    source: 사람인 채용공고 목록 페이지\n",
    "    recruit_dict: {'회사 이름': '채용공고 글 번호'}, 반환값\n",
    "    \"\"\"\n",
    "\n",
    "    url = 'https://www.saramin.co.kr/zf_user/jobs/relay/view?' + \\\n",
    "           'rec_idx=' + idx\n",
    "    \n",
    "    web = requests.get(url).content\n",
    "    source = BeautifulSoup(web, 'html.parser')\n",
    "\n",
    "    return source"
   ]
  },
  {
   "cell_type": "code",
   "execution_count": 78,
   "metadata": {},
   "outputs": [],
   "source": [
    "def select_company(original_dict: dict) -> tuple:\n",
    "    \"\"\"\n",
    "    딕셔너리에서 하나의 키값을 선택해서 해당 키와 값을 반환하는 함수\n",
    "    recruit_dict: {'회사 이름': '채용공고 글 번호'}\n",
    "    select_page: {'인덱스': ('회사 이름', '채용공고 글 번호')}, 반환값\n",
    "    \"\"\"\n",
    "    \n",
    "    recruit_dict = original_dict.copy()\n",
    "    index, selection = 1, None\n",
    "\n",
    "    while True:\n",
    "        select_page = dict()\n",
    "\n",
    "        try:\n",
    "            for i in range(10):\n",
    "                select_page[index] = recruit_dict.popitem()\n",
    "                index += 1\n",
    "        except KeyError:\n",
    "            pass\n",
    "\n",
    "        for idx, company in select_page.items():\n",
    "            print(f'{idx}. {company[0]}')\n",
    "        \n",
    "        if recruit_dict:\n",
    "            print('다음 페이지로 이동(n)')\n",
    "            selection = input('목록을 선택해주세요. ')\n",
    "            if selection == 'n':\n",
    "                continue\n",
    "            return select_page[int(selection)]\n",
    "        else:\n",
    "            print('마지막 페이지 입니다.')\n",
    "            selection = input('목록을 선택해주세요. ')\n",
    "            return select_page[int(selection)]"
   ]
  },
  {
   "cell_type": "code",
   "execution_count": 113,
   "metadata": {},
   "outputs": [],
   "source": [
    "def crawl_saramin():\n",
    "    \"\"\"\n",
    "    사람인 크롤링 실행 함수\n",
    "    현재 반환값: ('회사 이름', '채용공고 글 번호')\n",
    "    \"\"\"\n",
    "\n",
    "    location_dict = {'서울': '101000', '경기': '102000'}\n",
    "    job_dict = {'인공지능': '181', '데이터분석가': '2C82'}\n",
    "\n",
    "    locations = input('지역을 입력하세요. ').split()\n",
    "    jobs = input('직업을 입력하세요. ').split()\n",
    "\n",
    "    try:\n",
    "        locations = [location_dict[x] for x in locations]\n",
    "        jobs = [job_dict[x] for x in jobs]\n",
    "\n",
    "        source = get_source(locations, jobs)\n",
    "    except KeyError or ConnectionError:\n",
    "        raise Exception('지역이나 직업이 올바르지 않습니다.')\n",
    "\n",
    "    recruit_dict = get_recruit_dict(source)\n",
    "\n",
    "    try:\n",
    "        selection = select_company(recruit_dict)\n",
    "        print(selection)\n",
    "    except KeyError or ValueError:\n",
    "        raise Exception('잘못된 번호를 입력하셨습니다.')\n",
    "    \n",
    "    # 작성 중"
   ]
  },
  {
   "cell_type": "markdown",
   "metadata": {},
   "source": [
    "## 데이터 크롤링"
   ]
  },
  {
   "cell_type": "code",
   "execution_count": 110,
   "metadata": {},
   "outputs": [
    {
     "name": "stdout",
     "output_type": "stream",
     "text": [
      "1. 인피닉\n",
      "2. 사회복지법인삼성생명공익재단\n",
      "3. 서울아산병원\n",
      "4. ㈜더아이엠씨\n",
      "5. 주식회사 투그램시스템즈\n",
      "6. 알세미\n",
      "7. 베스핀글로벌\n",
      "8. 뤼이드\n",
      "9. 풀무원\n",
      "10. 알체라\n",
      "다음 페이지로 이동(n)\n",
      "('인피닉', '42688576')\n"
     ]
    }
   ],
   "source": [
    "try:\n",
    "    crawl_saramin()\n",
    "except Exception as e:\n",
    "    print(e)\n",
    "    print('다시 실행시켜 주세요.')"
   ]
  },
  {
   "cell_type": "markdown",
   "metadata": {},
   "source": [
    "## 테스트 코드"
   ]
  },
  {
   "cell_type": "code",
   "execution_count": 16,
   "metadata": {},
   "outputs": [],
   "source": [
    "locations = ['101000']\n",
    "jobs = ['181']\n",
    "\n",
    "source = get_source(locations, jobs)\n",
    "# source"
   ]
  },
  {
   "cell_type": "code",
   "execution_count": 64,
   "metadata": {},
   "outputs": [],
   "source": [
    "recruit_dict = get_recruit_dict(source)\n",
    "# company_dict"
   ]
  },
  {
   "cell_type": "code",
   "execution_count": 114,
   "metadata": {},
   "outputs": [],
   "source": [
    "#get_recruit_page(recruit_dict['인라이플'])"
   ]
  },
  {
   "cell_type": "code",
   "execution_count": null,
   "metadata": {},
   "outputs": [],
   "source": []
  }
 ],
 "metadata": {
  "interpreter": {
   "hash": "b0fa6594d8f4cbf19f97940f81e996739fb7646882a419484c72d19e05852a7e"
  },
  "kernelspec": {
   "display_name": "Python 3.9.10 64-bit",
   "language": "python",
   "name": "python3"
  },
  "language_info": {
   "codemirror_mode": {
    "name": "ipython",
    "version": 3
   },
   "file_extension": ".py",
   "mimetype": "text/x-python",
   "name": "python",
   "nbconvert_exporter": "python",
   "pygments_lexer": "ipython3",
   "version": "3.9.10"
  },
  "orig_nbformat": 4
 },
 "nbformat": 4,
 "nbformat_minor": 2
}
