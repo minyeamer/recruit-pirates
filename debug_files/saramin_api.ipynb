{
 "cells": [
  {
   "cell_type": "markdown",
   "metadata": {},
   "source": [
    "# 사람인 API를 활용한 서비스"
   ]
  },
  {
   "cell_type": "markdown",
   "metadata": {},
   "source": [
    "## 라이브러리 선언"
   ]
  },
  {
   "cell_type": "code",
   "execution_count": 30,
   "metadata": {},
   "outputs": [],
   "source": [
    "import requests\n",
    "from bs4 import BeautifulSoup\n",
    "import json\n",
    "\n",
    "import numpy as np\n",
    "import pandas as pd\n",
    "\n",
    "from datetime import date"
   ]
  },
  {
   "cell_type": "markdown",
   "metadata": {},
   "source": [
    "## 클래스 생성"
   ]
  },
  {
   "cell_type": "code",
   "execution_count": null,
   "metadata": {},
   "outputs": [],
   "source": [
    "class Admin:\n",
    "    def __init__(self):\n",
    "        self.__key = 'sRAgX6FnqAbwwfEmZ38fwehe6PYGheqS8N6JBaP8ID4EXkVHsGyre'\n",
    "        self.__url = 'https://oapi.saramin.co.kr/job-search'\n",
    "        self.__loc_dict = self.__set_loc_dict()\n",
    "        self.__job_dict = self.__set_job_dict()\n",
    "\n",
    "    def __set_loc_dict():\n",
    "        loc_dict = dict()\n",
    "        # 사람인 API 문서 크롤링을 통해 지역코드 딕셔너리 생성\n",
    "        return loc_dict\n",
    "\n",
    "    def __set_job_dict():\n",
    "        job_dict = dict()\n",
    "        # 사람인 API 문서 크롤링을 통해 직업코드 딕셔너리 생성\n",
    "        return job_dict\n",
    "    \n",
    "    def get_service_key(self) -> str:\n",
    "        return self.__key\n",
    "    \n",
    "    def get_url(self) -> str:\n",
    "        return self.__url\n",
    "    \n",
    "    def get_loc_dict(self) -> dict:\n",
    "        return self.__loc_dict\n",
    "    \n",
    "    def get_job_dict(self) -> dict:\n",
    "        return self.__job_dict"
   ]
  },
  {
   "cell_type": "code",
   "execution_count": null,
   "metadata": {},
   "outputs": [],
   "source": [
    "class Client:\n",
    "    __fields = {'posting-date', 'expiration-date', 'keyword-code', 'count'}\n",
    "\n",
    "    def __init__(self, name: str, address: str, admin: Admin):\n",
    "        self.__name = name\n",
    "        self.__address = address\n",
    "        self.__admin = admin\n",
    "        self.__headers = dict()\n",
    "        self.__params = dict()\n",
    "        self.__response = None\n",
    "    \n",
    "    def set_response_type(self, type: str):\n",
    "        self.__headers['Accept'] = f'application/{type}'\n",
    "\n",
    "    def set_params(self, locs: list, jobs: list, count: str):\n",
    "        service_key = self.__admin.get_service_key()\n",
    "        loc_dict = self.__admin.get_loc_dict()\n",
    "        job_dict = self.__admin.get_job_dict()\n",
    "\n",
    "        loc_list = locs # text to code 전처리 함수\n",
    "        job_list = jobs # text to code 전처리 함수\n",
    "\n",
    "        self.__params['access_key'] = service_key\n",
    "        self.__params['loc_cd'] = ','.join(loc_list)\n",
    "        self.__params['job_cd'] = ','.join(job_list)\n",
    "        self.__params['fields'] = self.__fields\n",
    "        self.__params['sr'] = 'directhire'\n",
    "        self.__params['count'] = count\n",
    "    \n",
    "    def request_saramin(self):\n",
    "        url = self.__admin.get_url()\n",
    "        response = requests.get(url, \\\n",
    "                                headers=self.__headers, \\\n",
    "                                params=self.__params)\n",
    "        self.__response = response\n",
    "\n",
    "    def get_name(self):\n",
    "        return self.__name\n",
    "    \n",
    "    def get_address(self):\n",
    "        return self.__address\n",
    "\n",
    "    def get_json_response(self):\n",
    "        if self.__response:\n",
    "            return json.loads(self.__response.content)"
   ]
  },
  {
   "cell_type": "code",
   "execution_count": null,
   "metadata": {},
   "outputs": [],
   "source": [
    "class Position:\n",
    "    def __init__(self, title: str, location: str):\n",
    "        self.title = title\n",
    "        self.location = location\n",
    "\n",
    "    def set_details(self, industry: str, exp: str, edu: str, salary=0):\n",
    "        self.industry = industry\n",
    "        self.exp = exp\n",
    "        self.edu = edu\n",
    "        self.salary = salary\n",
    "    \n",
    "    def set_timestamp(self, opening_date, expire_date):\n",
    "        self.opening = opening_date\n",
    "        self.expire = expire_date\n",
    "        self.dday = expire_date - date.today() # 날짜 형식 맞춰야 함"
   ]
  },
  {
   "cell_type": "code",
   "execution_count": null,
   "metadata": {},
   "outputs": [],
   "source": [
    "class Company:\n",
    "    def __init__(self, name: str, href: str, salary):\n",
    "        self.name = name\n",
    "        self.href = href\n",
    "        self.positions = dict()\n",
    "        self.salary = salary\n",
    "        self.avg_salary = 0\n",
    "    \n",
    "    def set_position(self, id: str, position: Position):\n",
    "        self.positions[id] = position"
   ]
  },
  {
   "cell_type": "code",
   "execution_count": null,
   "metadata": {},
   "outputs": [],
   "source": [
    "loc_list = input('희망하는 지역을 입력해주세요. ').split()\n",
    "job_list = input('희망하는 직업을 입력해주세요. ').split()\n",
    "count = input('수신받을 채용공고의 개수를 입력해주세요. (최대 110개) ')"
   ]
  },
  {
   "cell_type": "code",
   "execution_count": 56,
   "metadata": {},
   "outputs": [],
   "source": [
    "with open('saramin.json', 'w', encoding='utf-8') as json_file:\n",
    "    json.dump(saramin_json, json_file, ensure_ascii=False)"
   ]
  },
  {
   "cell_type": "code",
   "execution_count": 58,
   "metadata": {},
   "outputs": [
    {
     "data": {
      "text/plain": [
       "{'url': 'http://www.saramin.co.kr/zf_user/jobs/relay/view?rec_idx=42741477&utm_source=job-search-api&utm_medium=api&utm_campaign=saramin-job-search-api',\n",
       " 'active': 1,\n",
       " 'company': {'detail': {'href': 'http://www.saramin.co.kr/zf_user/company-info/view?csn=2098800245&utm_source=job-search-api&utm_medium=api&utm_campaign=saramin-job-search-api',\n",
       "   'name': '(주)인사이터'}},\n",
       " 'position': {'title': '데이터 사이언티스트 채용',\n",
       "  'industry': {'code': '301', 'name': '솔루션·SI·ERP·CRM'},\n",
       "  'location': {'code': '101130', 'name': '서울 &gt; 마포구'},\n",
       "  'job-type': {'code': '1', 'name': '정규직'},\n",
       "  'job-mid-code': {'code': '2', 'name': 'IT개발·데이터'},\n",
       "  'job-code': {'code': '109,116,181',\n",
       "   'name': '소프트웨어개발,머신러닝,빅데이터,AI(인공지능),데이터사이언스'},\n",
       "  'experience-level': {'code': 0, 'min': 0, 'max': 0, 'name': '경력무관'},\n",
       "  'required-education-level': {'code': '8', 'name': '대학교졸업(4년)이상'}},\n",
       " 'keyword': '소프트웨어개발',\n",
       " 'salary': {'code': '17', 'name': '4,000~5,000만원'},\n",
       " 'id': '42741477',\n",
       " 'posting-timestamp': '1649234786',\n",
       " 'posting-date': '2022-04-06T17:46:26+0900',\n",
       " 'modification-timestamp': '1649235630',\n",
       " 'opening-timestamp': '1649232000',\n",
       " 'expiration-timestamp': '1651849199',\n",
       " 'close-type': {'code': '1', 'name': '접수마감일'}}"
      ]
     },
     "execution_count": 58,
     "metadata": {},
     "output_type": "execute_result"
    }
   ],
   "source": [
    "saramin_json['jobs']['job'][0]"
   ]
  },
  {
   "cell_type": "code",
   "execution_count": 59,
   "metadata": {},
   "outputs": [
    {
     "data": {
      "text/plain": [
       "['(주)인사이터',\n",
       " '(주)뉴인',\n",
       " '(주)쓰리아이',\n",
       " '(주)아이센스',\n",
       " '(주)지에스아이티엠',\n",
       " '텔레픽스(주)',\n",
       " 'SK텔레콤(주)',\n",
       " '(주)제론테크',\n",
       " '(주)엘솔루',\n",
       " '(주)나인테일에이아이',\n",
       " '(주)원더피플',\n",
       " '(주)브로드씨엔에스',\n",
       " '(주)이음인터렉티브',\n",
       " '(주)유니트론텍',\n",
       " '에스케이쉴더스(주)',\n",
       " '마인드원(주)',\n",
       " '(주)파인디지털',\n",
       " '(주)파인디지털',\n",
       " '(주)파운트',\n",
       " '(주)나인테일에이아이',\n",
       " '(주)나인테일에이아이',\n",
       " '(주)컴투스',\n",
       " '(주)아크릴',\n",
       " '(주)아크릴',\n",
       " '이투스교육(주)',\n",
       " '미디어젠(주)',\n",
       " '(주)한국소프트웨어아이엔씨',\n",
       " '경포씨엔씨',\n",
       " '(주)자이오넥스',\n",
       " '(주)투윈스컴',\n",
       " '(주)지이씨엘코리아',\n",
       " '한국전자금융(주)',\n",
       " '서울아산병원',\n",
       " '(주)메타넷글로벌',\n",
       " '주식회사 프라이데이즈랩',\n",
       " '(주)에이아이매틱스',\n",
       " '(주)로지올',\n",
       " '(주)시스원',\n",
       " '(주)티지360테크놀로지스',\n",
       " '나이스평가정보(주)',\n",
       " '(주)브이엔티지',\n",
       " '(주)케이솔루션즈',\n",
       " '(주)웨디',\n",
       " '(주)인라이플',\n",
       " '셀바스에이아이',\n",
       " '셀바스에이아이',\n",
       " '셀바스에이아이',\n",
       " '(주)비스텔리젼스',\n",
       " '피피에스(주)',\n",
       " '코드크레인(유)']"
      ]
     },
     "execution_count": 59,
     "metadata": {},
     "output_type": "execute_result"
    }
   ],
   "source": [
    "jobs = [ saramin_json['jobs']['job'][i]['company']['detail']['name'] for i in range(50) ]\n",
    "jobs"
   ]
  },
  {
   "cell_type": "code",
   "execution_count": null,
   "metadata": {},
   "outputs": [],
   "source": []
  }
 ],
 "metadata": {
  "interpreter": {
   "hash": "b0fa6594d8f4cbf19f97940f81e996739fb7646882a419484c72d19e05852a7e"
  },
  "kernelspec": {
   "display_name": "Python 3.9.10 64-bit",
   "language": "python",
   "name": "python3"
  },
  "language_info": {
   "codemirror_mode": {
    "name": "ipython",
    "version": 3
   },
   "file_extension": ".py",
   "mimetype": "text/x-python",
   "name": "python",
   "nbconvert_exporter": "python",
   "pygments_lexer": "ipython3",
   "version": "3.9.10"
  },
  "orig_nbformat": 4
 },
 "nbformat": 4,
 "nbformat_minor": 2
}
